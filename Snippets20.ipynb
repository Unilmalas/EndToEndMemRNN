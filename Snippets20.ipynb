{
 "cells": [
  {
   "cell_type": "code",
   "execution_count": 2,
   "metadata": {},
   "outputs": [
    {
     "name": "stdout",
     "output_type": "stream",
     "text": [
      "tensor([[ True, False, False, False, False, False, False, False, False, False],\n",
      "        [ True,  True, False, False, False, False, False, False, False, False],\n",
      "        [ True,  True,  True, False, False, False, False, False, False, False],\n",
      "        [ True,  True,  True,  True, False, False, False, False, False, False],\n",
      "        [ True,  True,  True,  True,  True, False, False, False, False, False],\n",
      "        [ True,  True,  True,  True,  True,  True, False, False, False, False],\n",
      "        [ True,  True,  True,  True,  True,  True,  True, False, False, False],\n",
      "        [ True,  True,  True,  True,  True,  True,  True,  True, False, False],\n",
      "        [ True,  True,  True,  True,  True,  True,  True,  True,  True, False],\n",
      "        [ True,  True,  True,  True,  True,  True,  True,  True,  True,  True]])\n"
     ]
    }
   ],
   "source": [
    "import torch\n",
    "import numpy as np\n",
    "\n",
    "def subsequent_mask(size):\n",
    "    \"Mask out subsequent positions.\" # only the past should influence attention\n",
    "    attn_shape = (1, size, size)\n",
    "    subsequent_mask = np.triu(np.ones(attn_shape), k=1).astype('uint8') # np.triu(m, k=0): matrix m, k: diagonal above which to 0: 1=above diagonal\n",
    "    return torch.from_numpy(subsequent_mask) == 0\n",
    "\n",
    "if __name__=='__main__':\n",
    "    print(subsequent_mask(10)[0])"
   ]
  },
  {
   "cell_type": "code",
   "execution_count": 4,
   "metadata": {},
   "outputs": [
    {
     "name": "stdout",
     "output_type": "stream",
     "text": [
      "Sentence('\"The time ha... Walrus said,')\n",
      "The\n",
      "time\n",
      "has\n",
      "come\n",
      "the\n",
      "Walrus\n",
      "said\n"
     ]
    }
   ],
   "source": [
    "# fluent py: sentence\n",
    "import re\n",
    "import reprlib\n",
    "\n",
    "RE_WORD = re.compile('\\w+')\n",
    "\n",
    "class Sentence:\n",
    "    \n",
    "    def __init__(self, text): # iter - why sequences are iterable\n",
    "        self.text = text\n",
    "        self.words = RE_WORD.findall(text) # findall returns a list of non-overlapping matches of the regex\n",
    "        \n",
    "    def __getitem__(self, index):\n",
    "        return self.words[index] # holds the result of findall\n",
    "    \n",
    "    def __len__(self): # needed for the sequence protocol\n",
    "        return len(self.words)\n",
    "    \n",
    "    def __repr__(self):\n",
    "        return 'Sentence(%s)' % reprlib.repr(self.text) # reprlib: utility to generate abbreviated string representations\n",
    "    \n",
    "if __name__=='__main__':\n",
    "    s = Sentence('\"The time has come,\" the Walrus said,')\n",
    "    print(s)\n",
    "    for word in s:\n",
    "        print(word)"
   ]
  },
  {
   "cell_type": "code",
   "execution_count": 17,
   "metadata": {},
   "outputs": [
    {
     "name": "stdout",
     "output_type": "stream",
     "text": [
      "17.0\n",
      "66.0\n",
      "49.0\n",
      "(2.0, 4.0, 6.0, 4.0)\n"
     ]
    }
   ],
   "source": [
    "# polynomials and RSA\n",
    "import itertools\n",
    "\n",
    "class Polynomial:\n",
    "    \n",
    "    def __init__(self, coeffs):\n",
    "        '''init polynomial with a list of coefficients, starting with the lowest power'''\n",
    "        self.coeffs = list(coeffs)\n",
    "        \n",
    "    def __len__(self):\n",
    "        '''return the degree of the polynomial'''\n",
    "        return len(self.coeffs)\n",
    "    \n",
    "    def __getitem__(self, index):\n",
    "        '''return the coefficient for the index given'''\n",
    "        return self.coeffs[index]\n",
    "        \n",
    "    def __add__(self, other):\n",
    "        '''add two polynomials'''\n",
    "        try:\n",
    "            pairs = itertools.zip_longest(self, other, fillvalue=0.0)\n",
    "            return Polynomial(a + b for a, b in pairs)\n",
    "        except TypeError:\n",
    "            return NotImplemented\n",
    "        \n",
    "    def __radd__(self, other):\n",
    "        return self + other # delegates to __add__\n",
    "        \n",
    "    def val(self, x):\n",
    "        '''evaluate polynomial at x'''\n",
    "        res = 0\n",
    "        cx = 1\n",
    "        for i in range(len(self)):\n",
    "            res += self[i] * cx\n",
    "            cx *= x\n",
    "        return res\n",
    "    \n",
    "    def __str__(self):\n",
    "        return str(tuple(self))  # build tuple from iterable\n",
    "\n",
    "if __name__=='__main__':\n",
    "    p0 = Polynomial([1., 2., 3.])\n",
    "    print(p0.val(2.))\n",
    "    p1 = Polynomial([1., 2., 3., 4.])\n",
    "    p0 += p1\n",
    "    print(p0.val(2.))\n",
    "    print(p1.val(2.))\n",
    "    print(p0)"
   ]
  },
  {
   "cell_type": "code",
   "execution_count": 1,
   "metadata": {},
   "outputs": [
    {
     "name": "stdout",
     "output_type": "stream",
     "text": [
      "100.25\n"
     ]
    }
   ],
   "source": [
    "# fishs in the pond\n",
    "import random\n",
    "\n",
    "def fishtag(N, s0, s1, t1):\n",
    "    tg0 = random.sample(range(N), s0)\n",
    "    i = 0\n",
    "    notg = []\n",
    "    while len(notg) < (s1 - t1):\n",
    "        ridx = random.randint(0, N)\n",
    "        i += 1\n",
    "        if not ridx in tg0:\n",
    "            notg.append(ridx)\n",
    "    return i\n",
    "\n",
    "if __name__=='__main__':\n",
    "    tst = 0\n",
    "    for i in range(100):\n",
    "        tst += fishtag(500, 100, 100, 20)\n",
    "    print(tst/100) # should be 100"
   ]
  },
  {
   "cell_type": "code",
   "execution_count": 3,
   "metadata": {},
   "outputs": [
    {
     "name": "stdout",
     "output_type": "stream",
     "text": [
      "Sentence('\"The time ha... Walrus said,')\n",
      "The\n",
      "time\n",
      "has\n",
      "come\n",
      "the\n",
      "Walrus\n",
      "said\n"
     ]
    }
   ],
   "source": [
    "# sentence iterator\n",
    "import re\n",
    "import reprlib\n",
    "\n",
    "RE_WORD = re.compile(r'\\w+')\n",
    "\n",
    "class Sentence:\n",
    "\n",
    "    def __init__(self, text):\n",
    "        self.text = text\n",
    "        self.words = RE_WORD.findall(text)\n",
    "\n",
    "    def __repr__(self):\n",
    "        return 'Sentence(%s)' % reprlib.repr(self.text)\n",
    "\n",
    "    def __iter__(self):  # <1> no getitem: makes it an iterable\n",
    "        return SentenceIterator(self.words)  # <2> protocol fulfilled: instantiates and returns iterator\n",
    "\n",
    "\n",
    "class SentenceIterator:\n",
    "\n",
    "    def __init__(self, words):\n",
    "        self.words = words  # <3>\n",
    "        self.index = 0  # <4>\n",
    "\n",
    "    def __next__(self):\n",
    "        try:\n",
    "            word = self.words[self.index]  # <5>\n",
    "        except IndexError:\n",
    "            raise StopIteration()  # <6>\n",
    "        self.index += 1  # <7>\n",
    "        return word  # <8>\n",
    "\n",
    "    def __iter__(self):  # <9>\n",
    "        return self\n",
    "\n",
    "def main():\n",
    "    s = Sentence('\"The time has come,\" the Walrus said,')\n",
    "    print(s)\n",
    "    for word in s:\n",
    "        print(word)\n",
    "    '''import sys\n",
    "    import warnings\n",
    "    try:\n",
    "        filename = sys.argv[1]\n",
    "        word_number = int(sys.argv[2])\n",
    "    except (IndexError, ValueError):\n",
    "        print('Usage: %s <file-name> <word-number>' % sys.argv[0])\n",
    "        #sys.exit(1)\n",
    "    with open(filename, 'rt', encoding='utf-8') as text_file:\n",
    "        s = Sentence(text_file.read())\n",
    "    for n, word in enumerate(s, 1):\n",
    "        if n == word_number:\n",
    "            print(word)\n",
    "            break\n",
    "    else:\n",
    "        warnings.warn('last word is #%d, \"%s\"' % (n, word))'''\n",
    "\n",
    "if __name__ == '__main__':\n",
    "    main()"
   ]
  },
  {
   "cell_type": "code",
   "execution_count": 34,
   "metadata": {},
   "outputs": [
    {
     "name": "stdout",
     "output_type": "stream",
     "text": [
      "Sentence('\"The time ha... Walrus said,')\n",
      "The\n",
      "time\n",
      "has\n",
      "come\n",
      "the\n",
      "Walrus\n",
      "said\n"
     ]
    }
   ],
   "source": [
    "\"\"\"\n",
    "Sentence: iterate over words using a generator function\n",
    "\"\"\"\n",
    "\n",
    "import re\n",
    "import reprlib\n",
    "\n",
    "RE_WORD = re.compile(r'\\w+')\n",
    "\n",
    "class Sentence:\n",
    "\n",
    "    def __init__(self, text):\n",
    "        self.text = text\n",
    "        self.words = RE_WORD.findall(text)\n",
    "\n",
    "    def __repr__(self):\n",
    "        return 'Sentence(%s)' % reprlib.repr(self.text)\n",
    "\n",
    "    def __iter__(self):\n",
    "        for word in self.words:  # <1> iterate over words\n",
    "            yield word  # <2> yield the current word - turns function into a generator\n",
    "        return  # <3> not needed - function can just fall through\n",
    "    \n",
    "def main():\n",
    "    s = Sentence('\"The time has come,\" the Walrus said,')\n",
    "    print(s)\n",
    "    for word in s:\n",
    "        print(word)\n",
    "\n",
    "if __name__ == '__main__':\n",
    "    main()"
   ]
  },
  {
   "cell_type": "code",
   "execution_count": 3,
   "metadata": {},
   "outputs": [
    {
     "name": "stdout",
     "output_type": "stream",
     "text": [
      "<function gen_123 at 0x000002B39DB27A60>\n",
      "<generator object gen_123 at 0x000002B39DB21468>\n",
      "1\n",
      "2\n",
      "3\n",
      "1\n",
      "2\n",
      "3\n"
     ]
    },
    {
     "ename": "StopIteration",
     "evalue": "",
     "output_type": "error",
     "traceback": [
      "\u001b[1;31m---------------------------------------------------------------------------\u001b[0m",
      "\u001b[1;31mStopIteration\u001b[0m                             Traceback (most recent call last)",
      "\u001b[1;32m<ipython-input-3-0d9e5ca7ae9b>\u001b[0m in \u001b[0;36m<module>\u001b[1;34m\u001b[0m\n\u001b[0;32m     12\u001b[0m \u001b[0mprint\u001b[0m\u001b[1;33m(\u001b[0m\u001b[0mnext\u001b[0m\u001b[1;33m(\u001b[0m\u001b[0mg\u001b[0m\u001b[1;33m)\u001b[0m\u001b[1;33m)\u001b[0m\u001b[1;33m\u001b[0m\u001b[1;33m\u001b[0m\u001b[0m\n\u001b[0;32m     13\u001b[0m \u001b[0mprint\u001b[0m\u001b[1;33m(\u001b[0m\u001b[0mnext\u001b[0m\u001b[1;33m(\u001b[0m\u001b[0mg\u001b[0m\u001b[1;33m)\u001b[0m\u001b[1;33m)\u001b[0m\u001b[1;33m\u001b[0m\u001b[1;33m\u001b[0m\u001b[0m\n\u001b[1;32m---> 14\u001b[1;33m \u001b[0mprint\u001b[0m\u001b[1;33m(\u001b[0m\u001b[0mnext\u001b[0m\u001b[1;33m(\u001b[0m\u001b[0mg\u001b[0m\u001b[1;33m)\u001b[0m\u001b[1;33m)\u001b[0m \u001b[1;31m# function body complete: StopIteration\u001b[0m\u001b[1;33m\u001b[0m\u001b[1;33m\u001b[0m\u001b[0m\n\u001b[0m",
      "\u001b[1;31mStopIteration\u001b[0m: "
     ]
    }
   ],
   "source": [
    "def gen_123():\n",
    "    yield 1\n",
    "    yield 2\n",
    "    yield 3\n",
    "    \n",
    "print(gen_123) # a function object\n",
    "print(gen_123()) # invoked gen_123() returns a generator object\n",
    "for i in gen_123(): # generators are iterators that produce the values of the expressions passed to yield\n",
    "    print(i)\n",
    "g = gen_123()\n",
    "print(next(g)) # each next advances to the next yield\n",
    "print(next(g))\n",
    "print(next(g))\n",
    "print(next(g)) # function body complete: StopIteration"
   ]
  },
  {
   "cell_type": "code",
   "execution_count": 5,
   "metadata": {},
   "outputs": [
    {
     "name": "stdout",
     "output_type": "stream",
     "text": [
      "start\n",
      "--> A\n"
     ]
    }
   ],
   "source": [
    "# FluentPy: more generators\n",
    "\n",
    "def gen_AB(): # yield makes the function a generator\n",
    "    print('start')\n",
    "    yield 'A' # first implicit next() from the for loop prints start and stops at the first yield producing 'A'\n",
    "    print('continue')\n",
    "    yield 'B' # next implicit next() stops here\n",
    "    print('end.')\n",
    "    \n",
    "for c in gen_AB():\n",
    "    print('-->', c)\n",
    "    #break # just to see where the next() stops"
   ]
  },
  {
   "cell_type": "code",
   "execution_count": 17,
   "metadata": {},
   "outputs": [
    {
     "name": "stdout",
     "output_type": "stream",
     "text": [
      "Sentence('\"The time ha... Walrus said,')\n",
      "The\n",
      "time\n",
      "has\n",
      "come\n",
      "the\n",
      "Walrus\n",
      "said\n"
     ]
    }
   ],
   "source": [
    "import re\n",
    "import reprlib\n",
    "\n",
    "RE_WORD = re.compile(r'\\w+')\n",
    "\n",
    "class Sentence:\n",
    "\n",
    "    def __init__(self, text):\n",
    "        self.text = text\n",
    "\n",
    "    def __repr__(self):\n",
    "        return 'Sentence(%s)' % reprlib.repr(self.text)\n",
    "\n",
    "    def __iter__(self):\n",
    "        for match in RE_WORD.finditer(self.text):  # <1> finditer builds an iterator over the matches of RE_WORD\n",
    "            yield match.group()  # <2> extracts the actually matched text from the MatchObject instance\n",
    "    \n",
    "def main():\n",
    "    s = Sentence('\"The time has come,\" the Walrus said,')\n",
    "    print(s)\n",
    "    for word in s:\n",
    "        print(word)\n",
    "\n",
    "if __name__ == '__main__':\n",
    "    main()"
   ]
  },
  {
   "cell_type": "code",
   "execution_count": 14,
   "metadata": {},
   "outputs": [
    {
     "name": "stdout",
     "output_type": "stream",
     "text": [
      "start\n",
      "continue\n",
      "end.\n",
      "looping over res1\n",
      "--> AAA\n",
      "--> BBB\n",
      "looping over res2\n",
      "start\n",
      "--> AAA\n",
      "continue\n",
      "--> BBB\n",
      "end.\n"
     ]
    }
   ],
   "source": [
    "# generator expressions\n",
    "\n",
    "def gen_AB(): # yield makes the function a generator\n",
    "    print('start')\n",
    "    yield 'A' # first implicit next() from the for loop prints start and stops at the first yield producing 'A'\n",
    "    print('continue')\n",
    "    yield 'B' # next implicit next() stops here\n",
    "    print('end.')\n",
    "    \n",
    "res1 = [x*3 for x in gen_AB()] # list comprehension (eagerly iterates over the items yielded by the generator)\n",
    "print('looping over res1')\n",
    "for l in res1:\n",
    "    print('-->', l)\n",
    "    #break # just to see where the next() stops\n",
    "    \n",
    "res2 = (x*3 for x in gen_AB()) # a generator expression - not yet consumed\n",
    "print('looping over res2')\n",
    "for l in res2:\n",
    "    print('-->', l)\n",
    "    #break # just to see where the next() stops"
   ]
  },
  {
   "cell_type": "code",
   "execution_count": 18,
   "metadata": {},
   "outputs": [
    {
     "name": "stdout",
     "output_type": "stream",
     "text": [
      "Sentence('\"The time ha... Walrus said,')\n",
      "The\n",
      "time\n",
      "has\n",
      "come\n",
      "the\n",
      "Walrus\n",
      "said\n"
     ]
    }
   ],
   "source": [
    "# generator expression\n",
    "import re\n",
    "import reprlib\n",
    "\n",
    "RE_WORD = re.compile(r'\\w+')\n",
    "\n",
    "class Sentence:\n",
    "\n",
    "    def __init__(self, text):\n",
    "        self.text = text\n",
    "\n",
    "    def __repr__(self):\n",
    "        return 'Sentence(%s)' % reprlib.repr(self.text)\n",
    "\n",
    "    def __iter__(self):\n",
    "        return (match.group() for match in RE_WORD.finditer(self.text)) # generator expression\n",
    "    \n",
    "def main():\n",
    "    s = Sentence('\"The time has come,\" the Walrus said,')\n",
    "    print(s)\n",
    "    for word in s:\n",
    "        print(word)\n",
    "\n",
    "if __name__ == '__main__':\n",
    "    main()"
   ]
  },
  {
   "cell_type": "code",
   "execution_count": 10,
   "metadata": {},
   "outputs": [
    {
     "name": "stdout",
     "output_type": "stream",
     "text": [
      "Conv1D()\n",
      "torch.Size([2])\n",
      "torch.Size([2])  :  (4,)  :  torch.Size([2, 4])\n",
      "3\n",
      "tensor([[0.0114, 0.0153, 0.0089, 0.0966],\n",
      "        [0.0124, 0.0471, 0.0625, 0.1748]], grad_fn=<ViewBackward>)\n"
     ]
    }
   ],
   "source": [
    "import torch\n",
    "import torch.nn as nn\n",
    "from torch.nn.parameter import Parameter\n",
    "\n",
    "class Conv1D(nn.Module):\n",
    "    def __init__(self, nf, nx):\n",
    "        super(Conv1D, self).__init__()\n",
    "        self.nf = nf\n",
    "        w = torch.empty(nx, nf) # nx by nf\n",
    "        nn.init.normal_(w, std=0.02) # random numbers, normally distributed\n",
    "        self.weight = Parameter(w) # normally distributed random weights as parameters\n",
    "        self.bias = Parameter(torch.zeros(nf)) # no bias\n",
    "\n",
    "    def forward(self, x):\n",
    "        size_out = x.size()[:-1] + (self.nf,) # construct output size: rows of x by nf (size return value is a subclass of tuple)\n",
    "        print(x.size()[:-1], ' : ', (self.nf,), ' : ', size_out)\n",
    "        # torch.addmm(beta=1, input, alpha=1, mat1, mat2, out=None)\n",
    "        # Performs a matrix multiplication of the matrices mat1 and mat2. The matrix input is added to the final result.\n",
    "        print(x.size(-1)) # -1: number of columns, -2: number of rows\n",
    "        # multiply x reshaped to (inferred rows, cols of x) with weights (nx=cols of x, nf)\n",
    "        x = torch.addmm(self.bias, x.view(-1, x.size(-1)), self.weight) # weight is nx by nf, x.size(-1) are cols of x, rows of x.view are inferred (-1)\n",
    "        #print(x) # x is now (inferred rows of x, nf)\n",
    "        x = x.view(*size_out) # return a reshaped x : rows of x by nf\n",
    "        return x\n",
    "\n",
    "def main():\n",
    "    c0 = Conv1D(4, 3) # any nf really possible, nx has to match x, however\n",
    "    print(c0)\n",
    "    print(c0.forward(torch.Tensor([[1,2,3],[4,5,6]])))\n",
    "        \n",
    "if __name__ == '__main__':\n",
    "    main()"
   ]
  },
  {
   "cell_type": "code",
   "execution_count": 30,
   "metadata": {},
   "outputs": [
    {
     "name": "stdout",
     "output_type": "stream",
     "text": [
      "torch.Size([2, 3])\n",
      "3\n",
      "2\n",
      "tensor([[0.2447, 0.6652, 0.0900],\n",
      "        [0.0900, 0.2447, 0.6652]])\n",
      "tensor([[0.2447, 0.6652, 0.0900],\n",
      "        [0.0900, 0.2447, 0.6652]])\n",
      "tensor([[0.7311, 0.7311, 0.1192],\n",
      "        [0.2689, 0.2689, 0.8808]])\n"
     ]
    }
   ],
   "source": [
    "import torch\n",
    "import torch.nn as nn\n",
    "\n",
    "a = torch.tensor([[2., 3., 1.],[1., 2., 3.]])\n",
    "print(a.size()) # torch.Size([2])\n",
    "print(a.size(-1)) # 3\n",
    "print(a.size(-2)) # 3\n",
    "\n",
    "m = nn.Softmax(dim=1) # along rows (summing all cols = dim 1)\n",
    "#input = torch.randn(2, 3)\n",
    "output = m(a)\n",
    "print(output)\n",
    "m = nn.Softmax(dim=-1) # last dimension = sum along rows\n",
    "output = m(a)\n",
    "print(output)\n",
    "m = nn.Softmax(dim=0) # along cols (summing all rows = dim 0)\n",
    "output = m(a)\n",
    "print(output)"
   ]
  },
  {
   "cell_type": "code",
   "execution_count": 7,
   "metadata": {},
   "outputs": [
    {
     "name": "stdout",
     "output_type": "stream",
     "text": [
      "[0, 1, 2]\n",
      "[1.0, 1.5, 2.0, 2.5]\n",
      "[0.0, 0.3333333333333333, 0.6666666666666666]\n",
      "1\n"
     ]
    }
   ],
   "source": [
    "# FluentPy: arithmetic progression\n",
    "import itertools\n",
    "\n",
    "class ArithmeticProgression:\n",
    "    \n",
    "    def __init__(self, begin, step, end=None):\n",
    "        self.begin = begin\n",
    "        self.step = step\n",
    "        self.end = end # None = infinite series\n",
    "        \n",
    "    def __iter__(self):\n",
    "        result = type(self.begin + self.step)(self.begin) # value self.begin but of type consistent with .begin and .step\n",
    "        forever = self.end is None # readability: True if forever\n",
    "        index = 0\n",
    "        while forever or result < self.end:\n",
    "            yield result # current result is produced\n",
    "            index += 1\n",
    "            result = self.begin + self.step * index # next potential result calculated (might never be yielded)\n",
    "            \n",
    "ap = ArithmeticProgression(0, 1, 3)\n",
    "print(list(ap))\n",
    "ap = ArithmeticProgression(1, .5, 3)\n",
    "print(list(ap))\n",
    "ap = ArithmeticProgression(0, 1/3, 1)\n",
    "print(list(ap))\n",
    "\n",
    "# with itertools\n",
    "gen = itertools.count(1, 5)\n",
    "print(next(gen))"
   ]
  },
  {
   "cell_type": "code",
   "execution_count": 5,
   "metadata": {},
   "outputs": [
    {
     "name": "stdout",
     "output_type": "stream",
     "text": [
      "['A', 'a', 'a']\n",
      "['r', 'd', 'v', 'r', 'k']\n",
      "['r', 'd', 'v', 'a', 'r', 'k']\n",
      "['A', 'r', 'd', 'a']\n",
      "['A', 'a', 'r', 'd']\n",
      "['v', 'a', 'r']\n",
      "['a', 'd', 'a']\n",
      "[5, 9, 11, 19, 26, 32, 35, 35, 44, 45]\n"
     ]
    }
   ],
   "source": [
    "# generator functions\n",
    "import itertools\n",
    "\n",
    "def vowel(c):\n",
    "    return c.lower() in 'aeiou'\n",
    "\n",
    "# filtering generator functions\n",
    "print(list(filter(vowel, 'Aardvark'))) # applies vowel to each item, yielding the item if vowel is true\n",
    "print(list(itertools.filterfalse(vowel, 'Aardvark'))) # same as filter negated\n",
    "print(list(itertools.dropwhile(vowel, 'Aardvark'))) # yields items as long as vowel is true, then yields every item\n",
    "print(list(itertools.compress('Aardvark', (1,0,1,1,0,1)))) # two iterables in parallel: yields items as long as 2nd iterable is true\n",
    "print(list(itertools.islice('Aardvark', 4))) # yields items from slice\n",
    "print(list(itertools.islice('Aardvark', 4, 7)))\n",
    "print(list(itertools.islice('Aardvark', 1, 7, 2))) # start, stop, step\n",
    "\n",
    "# mapping generator functions\n",
    "sample = [5, 4, 2, 8, 7, 6, 3, 0, 9, 1]\n",
    "print(list(itertools.accumulate(sample))) # running sum"
   ]
  },
  {
   "cell_type": "code",
   "execution_count": null,
   "metadata": {},
   "outputs": [],
   "source": []
  }
 ],
 "metadata": {
  "kernelspec": {
   "display_name": "Python 3",
   "language": "python",
   "name": "python3"
  },
  "language_info": {
   "codemirror_mode": {
    "name": "ipython",
    "version": 3
   },
   "file_extension": ".py",
   "mimetype": "text/x-python",
   "name": "python",
   "nbconvert_exporter": "python",
   "pygments_lexer": "ipython3",
   "version": "3.6.8"
  }
 },
 "nbformat": 4,
 "nbformat_minor": 2
}
